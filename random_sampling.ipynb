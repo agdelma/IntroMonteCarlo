{
 "cells": [
  {
   "cell_type": "markdown",
   "metadata": {},
   "source": [
    "# 03:  Sampling Random Numbers"
   ]
  },
  {
   "cell_type": "code",
   "execution_count": null,
   "metadata": {},
   "outputs": [],
   "source": [
    "import numpy as np\n",
    "import matplotlib.pyplot as plt\n",
    "%config InlineBackend.figure_format = 'retina'\n",
    "%matplotlib inline\n",
    "try: plt.style.use('./mc_notebook.mplstyle')\n",
    "except: pass"
   ]
  },
  {
   "cell_type": "markdown",
   "metadata": {},
   "source": [
    "## What is a random number?\n",
    "\n",
    "- There is really no such thing, definitely not on a deterministic classical computer\n",
    "  - We can use quantum mechanics to build a random number generator!  \n",
    "  - See, e.g.: [Peter Bierhorst, Emanuel Knill, Scott Glancy, Yanbao Zhang, Alan Mink, Stephen Jordan, Andrea Rommal, Yi-Kai Liu, Bradley Christensen, Sae Woo Nam, Martin J. Stevens & Lynden K. Shalm, *Experimentally generated randomness certified by the impossibility of superluminal signals*, Nature **556**, 223 (2018)](https://www.nature.com/articles/s41586-018-0019-0)\n",
    "- Loose term applied to a sequence of independent numbers drawn randomly from some distribution\n",
    "- Typically we select integers or real values on some finite domain\n",
    "\n",
    "We have already used the `python` random number generator that lives in `np.random` to sample uniform random numbers $x \\in \\mathcal{U}_{[0,1)}$ "
   ]
  },
  {
   "cell_type": "code",
   "execution_count": null,
   "metadata": {},
   "outputs": [],
   "source": [
    "np.random.rand()"
   ]
  },
  {
   "cell_type": "markdown",
   "metadata": {},
   "source": [
    "## Sampling Continous Distributions\n",
    "\n",
    "We can use uniform random numbers to sample any continuous probability distribution by studying cumulative distribution functions:\n",
    "\n",
    "\\begin{equation}\n",
    "\\Pi(x) = \\int\\limits_{-\\infty}^{x} \\pi(x') dx' .\n",
    "\\end{equation}\n",
    "\n",
    "Our starting point will be the uniform distribution which satisfies:\n",
    "\n",
    "\\begin{equation}\n",
    "\\pi_\\mathcal{U}(x) = \n",
    "\\begin{cases}\n",
    "1 & ; & 0 \\le x \\le 1 \\\\\n",
    "0 & ; & \\text{otherwise} \n",
    "\\end{cases}\n",
    "\\end{equation}\n",
    "\n",
    "such that:\n",
    "\n",
    "\\begin{equation}\n",
    "\\int_{-\\infty}^{\\infty} \\pi_{\\mathcal{U}}(x) dx = 1.\n",
    "\\end{equation}\n",
    "\n",
    "Now, suppose want to sample some new random variables $y$ from some probability distribution $\\pi(y)$.  This requires we identify a mapping $x\\leftrightarrow y$ such that probability is conserved, i.e.\n",
    "\n",
    "\\begin{equation}\n",
    "\\pi(y) dy = \\pi_{\\mathcal{U}}(x) dx \\Rightarrow \\pi(y) = \\frac{dx}{dy}  \\pi_{\\mathcal{U}}(x) .\n",
    "\\end{equation}\n",
    "\n",
    "Integrating both sides:\n",
    "\n",
    "\\begin{equation}\n",
    "\\Pi(y) = \\int_{-\\infty}^y \\pi(y') dy' = \\int_{-\\infty}^{y} \\frac{dx}{dy'}  \\pi_{\\mathcal{U}}(x) dy' = \\int_0^y \\frac{dx}{dy'} dy' = x(y)\n",
    "\\end{equation}\n",
    "\n",
    "Therefore, we can invert the CDF $\\Pi(y)$ to get $y = \\Pi^{-1}(x)$ for a uniformly distributed $x$.\n",
    "\n",
    "Let's see how this works:"
   ]
  },
  {
   "cell_type": "markdown",
   "metadata": {},
   "source": [
    "### Example 1\n",
    "Generate a uniform random number $y$ on the domain $[a,b)$.\n",
    "\n",
    "We have: \n",
    "\\begin{equation}\n",
    "\\pi(y) =\n",
    "\\begin{cases}\n",
    "\\frac{1}{b-a} & ; & a \\le y \\le b \\\\\n",
    "0 & ; & \\text{otherwise} \n",
    "\\end{cases}\n",
    "\\end{equation}\n",
    "\n",
    "So\n",
    "\n",
    "\\begin{equation}\n",
    "x(y) =\\int_a^y \\pi(y') dy' = \\int_a^y \\frac{dy'}{b-a} = \\left.\\frac{y'}{b-a} \\right \\rvert_a^y = \\frac{y-a}{b-a}\n",
    "\\end{equation}\n",
    "\n",
    "thus $y = (b-a)x + a$,  which is a result we have already used in sampling:"
   ]
  },
  {
   "cell_type": "code",
   "execution_count": null,
   "metadata": {},
   "outputs": [],
   "source": [
    "δ = 0.3\n",
    "np.random.uniform(-δ,δ)"
   ]
  },
  {
   "cell_type": "markdown",
   "metadata": {},
   "source": [
    "### Example 2\n",
    "Consider sampling from the exponential distribution for $y\\ge 0$:\n",
    "\n",
    "\\begin{equation}\n",
    "\\pi(y) = \\lambda \\mathrm{e}^{-\\lambda y}.\n",
    "\\end{equation}\n",
    "\n",
    "As before:\n",
    "\n",
    "\\begin{equation}\n",
    "x(y) =\\int_0^y \\pi(y') dy' = \\lambda \\int_0^y \\mathrm{e}^{-\\lambda y'}dy' = \\left.-\\mathrm{e}^{-\\lambda y'} \\right \\rvert_0^y = 1 - \\mathrm{e}^{-\\lambda y} .\n",
    "\\end{equation}\n",
    "\n",
    "Solving for $x$:\n",
    "\n",
    "\\begin{align*}\n",
    "\\mathrm{e}^{-\\lambda y} &= 1-x \\newline\n",
    "-\\lambda y &= \\ln (1-x) \\newline\n",
    "y &= -\\frac{1}{\\lambda} \\ln (1-x) \n",
    "\\end{align*}\n",
    "\n",
    "which gives $y \\in [0,\\infty)$ for $x \\in [0,1)$.\n",
    "\n",
    "### Sampling the exponential distribution"
   ]
  },
  {
   "cell_type": "code",
   "execution_count": null,
   "metadata": {},
   "outputs": [],
   "source": [
    "def π_exp(y,λ):\n",
    "    return λ*np.exp(-λ*y)\n",
    "\n",
    "N = 2**12\n",
    "λ = 0.5\n",
    "y = np.linspace(0,100,N)\n",
    "plt.plot(y,π_exp(y,λ), label=r'$%3.1f\\mathrm{e}^{-%3.1fy}$'%(λ,λ))\n",
    "\n",
    "# sample y from a uniform x\n",
    "x = np.random.random(N)\n",
    "sampled_y = -(1/λ)*np.log(1.0-x)\n",
    "\n",
    "plt.hist(sampled_y, bins=100, normed=True, ec='w', label='sampled', fc='gray', alpha=0.2);\n",
    "plt.xlim(0,10);\n",
    "plt.xlabel('y')\n",
    "plt.ylabel('π (y)')\n",
    "plt.title('Exponential Distribution')\n",
    "plt.legend(loc='upper right')"
   ]
  },
  {
   "cell_type": "markdown",
   "metadata": {},
   "source": [
    "## Rejection Sampling\n",
    "\n",
    "What do we do if we can't invert the cumulative distribution function and we are out of tricks?  The technique, known as **von Neumann rejection** is similar to how we computed $\\pi$ by throwing stones into a pond.  \n",
    "\n",
    "Consider some probability distribution function $\\pi(x)$ whose cumulative distribution function $\\Pi(x)$ cannot be inverted.  Suppose we want to sample this function over the finite range $[x_{\\rm min},x_{\\rm max})$ where $\\pi_{\\rm max} = \\max_{x_{\\rm min} \\le x < x_{\\rm max}} \\pi(x)$ is the maximal value of $\\pi(x)$ on this interval.  Then we can:\n",
    "\n",
    "1. Generate a sequence of $N$ uniformly distributed random numbers $x_i \\in \\mathcal{U}_{[x_{\\rm min},x_{\\rm max})}$\n",
    "2. Generate a second sequence of $N$ uniformly distribted random numbers $\\chi_i \\in \\mathcal{U}_{[0,\\pi_{\\rm max})}$\n",
    "3. Keep only those elements in the first sequence $x_i$ that have $\\chi_i < \\pi(x_i)$\n",
    "\n",
    "The resulting set of $x_j$ values will be distributed according to $\\pi(x)$.   This works by throwing away unlikely results.\n",
    "\n",
    "<br />\n",
    "<div class=\"span alert alert-warning\">\n",
    "Note: Our probability distribution must be bounded and have a finite range. \n",
    "</div>"
   ]
  },
  {
   "cell_type": "markdown",
   "metadata": {},
   "source": [
    "### Let's return to the task of importance sampling our integral: \n",
    "\n",
    "\\begin{equation}\n",
    "I = \\frac{\\pi\\, \\mathrm{erf}(5)^2}{100}\\int\\limits_{-5}^{5} dx \\int\\limits_{-5}^{5} dx \\, \\sqrt{1+x^2+y^2}\\, \\pi(x,y)\n",
    "\\end{equation}\n",
    "\n",
    "where we want to sample random numbers from:\n",
    "\n",
    "\\begin{equation}\n",
    "\\pi(x,y) =  \\frac{\\mathrm{e}^{-x^2-y^2}}{\\pi\\, \\mathrm{erf}(5)^2}\n",
    "\\end{equation}"
   ]
  },
  {
   "cell_type": "code",
   "execution_count": null,
   "metadata": {},
   "outputs": [],
   "source": [
    "from numpy import pi as π\n",
    "import scipy.special\n",
    "def π_import_samp(x,y,L):\n",
    "    return np.exp(-x**2 - y**2)/(π*scipy.special.erf(L/2)**2)"
   ]
  },
  {
   "cell_type": "markdown",
   "metadata": {},
   "source": [
    "#### Generate the lists of random numbers:"
   ]
  },
  {
   "cell_type": "code",
   "execution_count": null,
   "metadata": {},
   "outputs": [],
   "source": [
    "L = 10\n",
    "N = 2**16\n",
    "x = np.random.uniform(-L/2,L/2,N)\n",
    "y = np.random.uniform(-L/2,L/2,N)\n",
    "χ = np.random.uniform(0,π_import_samp(0,0,L),N)"
   ]
  },
  {
   "cell_type": "markdown",
   "metadata": {},
   "source": [
    "#### Perform the rejection"
   ]
  },
  {
   "cell_type": "code",
   "execution_count": null,
   "metadata": {},
   "outputs": [],
   "source": [
    "accepted_x = x[χ < π_import_samp(x,y,L)]\n",
    "accepted_y = y[χ < π_import_samp(x,y,L)]"
   ]
  },
  {
   "cell_type": "markdown",
   "metadata": {},
   "source": [
    "#### Investigate the Process"
   ]
  },
  {
   "cell_type": "code",
   "execution_count": null,
   "metadata": {},
   "outputs": [],
   "source": [
    "accepted_χ = χ[χ < π_import_samp(x,y,L)]\n",
    "\n",
    "rejected_x = x[χ >= π_import_samp(x,y,L)]\n",
    "rejected_y = y[χ >= π_import_samp(x,y,L)]\n",
    "rejected_χ = χ[χ >= π_import_samp(x,y,L)]\n",
    "\n",
    "fig = plt.figure(figsize=(12,8))\n",
    "ax = fig.gca(projection='3d')\n",
    "\n",
    "ax.scatter(accepted_x, accepted_y, accepted_χ, c='#D7414E', marker='.')\n",
    "ax.scatter(rejected_x[::5], rejected_y[::5], rejected_χ[::5], c='#5E4Fa2', marker='.', alpha=0.1)\n",
    "\n",
    "ax.set_xlabel('x',labelpad=14)\n",
    "ax.set_ylabel('y',labelpad=14)\n",
    "ax.set_title('Rejection Sampling')\n",
    "ax.tick_params(axis='z', which='major', pad=10)\n",
    "\n",
    "[t.label.set_fontsize(14) for caxis in [ax.xaxis, ax.yaxis, ax.zaxis] for t in caxis.get_major_ticks()];"
   ]
  },
  {
   "cell_type": "markdown",
   "metadata": {},
   "source": [
    "#### Test the result by building a histogram"
   ]
  },
  {
   "cell_type": "code",
   "execution_count": null,
   "metadata": {},
   "outputs": [],
   "source": [
    "fig = plt.figure(figsize=(7,6))\n",
    "\n",
    "plt.hist2d(accepted_x, accepted_y, bins=40, normed=True, cmap='Spectral_r')\n",
    "plt.colorbar()\n",
    "\n",
    "X, Y = np.meshgrid(np.linspace(-L/2, L/2, 100), np.linspace(-L/2, L/2, 100))\n",
    "plt.contour(X,Y,π_import_samp(X,Y,L),cmap='Spectral_r');\n",
    "\n",
    "plt.xlabel('x');\n",
    "plt.ylabel('y');"
   ]
  },
  {
   "cell_type": "markdown",
   "metadata": {},
   "source": [
    "## Perform the Importance Sampling\n",
    "\n",
    "Now we can use these random numbers to compute our integral:\n",
    "\n",
    "\\begin{equation}\n",
    "I \\simeq \\frac{\\pi\\, \\mathrm{erf}(5)^2}{100} \\frac{1}{N} \\sum_n \\sqrt{1+x_n^2+y_n^2}\n",
    "\\end{equation}"
   ]
  },
  {
   "cell_type": "code",
   "execution_count": null,
   "metadata": {},
   "outputs": [],
   "source": [
    "N = len(accepted_x)\n",
    "f_import_samp = np.zeros(N)\n",
    "\n",
    "for n in range(N):\n",
    "    f_import_samp[n] = np.sqrt(1+accepted_x[n]**2+accepted_y[n]**2)\n",
    "\n",
    "f_import_samp *= π*scipy.special.erf(L/2)**2/100\n",
    "\n",
    "I_import_samp = np.average(f_import_samp)\n",
    "ΔI_import_samp = np.std(f_import_samp)/np.sqrt(N)\n",
    "δ_import_samp = np.abs(I_import_samp - 0.04332055352082126)/ΔI_import_samp\n",
    "print('I = %12.10f ± %8.6f' % (I_import_samp,ΔI_import_samp))\n",
    "print('|I-I_exact|/ΔI = %4.2fσ' % (δ_import_samp))\n",
    "print('Likelihood     = %5.2f '% (1-scipy.special.erf(δ_import_samp/np.sqrt(2))))"
   ]
  },
  {
   "cell_type": "markdown",
   "metadata": {},
   "source": [
    "#### Check out how few random samples were required to get this small error"
   ]
  },
  {
   "cell_type": "code",
   "execution_count": null,
   "metadata": {},
   "outputs": [],
   "source": [
    "print('N = %d'% N)"
   ]
  }
 ],
 "metadata": {
  "kernelspec": {
   "display_name": "Python 3",
   "language": "python",
   "name": "python3"
  },
  "language_info": {
   "codemirror_mode": {
    "name": "ipython",
    "version": 3
   },
   "file_extension": ".py",
   "mimetype": "text/x-python",
   "name": "python",
   "nbconvert_exporter": "python",
   "pygments_lexer": "ipython3",
   "version": "3.5.5"
  }
 },
 "nbformat": 4,
 "nbformat_minor": 2
}
