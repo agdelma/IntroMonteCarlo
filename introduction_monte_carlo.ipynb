{
 "cells": [
  {
   "cell_type": "markdown",
   "metadata": {},
   "source": [
    "# 01: Introduction to Monte Carlo Methods\n",
    "\n",
    "\n",
    "A great reference for this material is W. Krauth's excellent book ''Statistical Mechanics: Algorithms and Computations''\n",
    "\n"
   ]
  },
  {
   "cell_type": "code",
   "execution_count": 1,
   "metadata": {},
   "outputs": [],
   "source": [
    "import numpy as np\n",
    "import matplotlib.pyplot as plt\n",
    "%config InlineBackend.figure_format = 'retina'\n",
    "%matplotlib inline\n",
    "try: plt.style.use('./mc_notebook.mplstyle')\n",
    "except: pass"
   ]
  },
  {
   "cell_type": "markdown",
   "metadata": {},
   "source": [
    "## Estimating π\n",
    "\n",
    "We will attempt to estimate $\\pi$ by considering the unit circle embedded in a square of side 1"
   ]
  },
  {
   "cell_type": "code",
   "execution_count": 16,
   "metadata": {},
   "outputs": [
    {
     "data": {
      "image/png": "[encoded data removed]",
      "text/plain": [
       "<matplotlib.figure.Figure at 0x109552438>"
      ]
     },
     "metadata": {
      "image/png": {
       "height": 276,
       "width": 278
      }
     },
     "output_type": "display_data"
    }
   ],
   "source": [
    "plt.figure(figsize=(4,4))\n",
    "cx = np.linspace(-1,1,1000)\n",
    "cy = np.sqrt(1-cx**2)\n",
    "\n",
    "plt.fill_between(cx,-cy,cy, color='gray')\n",
    "plt.xlabel('x')\n",
    "plt.ylabel('y')    \n",
    "plt.xticks([]);\n",
    "plt.yticks([]);"
   ]
  },
  {
   "cell_type": "markdown",
   "metadata": {},
   "source": [
    "We know the area of the circle is $A_\\circ = \\pi$ while the area of the square is $A_\\square = 4$ thus we can compute $\\pi$ as the ratio:\n",
    "\n",
    "\\begin{equation}\n",
    "\\pi = 4 \\frac{A_\\circ}{A_\\square}\n",
    "\\end{equation}\n",
    "\n",
    "This ratio can be estimated using a simple ''children's game'' of pebble toss.\n",
    "\n",
    "### Direct Sampling\n",
    "\n",
    "1. Randomly toss a pebble into the square. \n",
    "2. Record the position where it lands $\\vec{r} = (x,y)$\n",
    "3. Determine whether the stone fell inside the circle: $r < 1$\n",
    "4. Repeat $N$ times and determine the total number of hits $N_{\\rm hits}$\n",
    "\n",
    "We can then determine:\n",
    "\n",
    "\\begin{equation}\n",
    "\\frac{N_{\\rm hits}}{N} = \\frac{A_\\circ}{A_\\square} = \\frac{\\pi}{4}\\, .\n",
    "\\end{equation}"
   ]
  },
  {
   "cell_type": "code",
   "execution_count": null,
   "metadata": {},
   "outputs": [],
   "source": [
    "N = 2**12\n",
    "\n",
    "# sample inside the square\n",
    "x = np.random.uniform(-1,1,N)\n",
    "y = np.random.uniform(-1,1,N)\n",
    "\n",
    "# count the number of hits\n",
    "N_hits = np.sum(x**2+y**2<1)\n",
    "print('π ≃ %6.4f' % (4*N_hits/N))"
   ]
  },
  {
   "cell_type": "code",
   "execution_count": null,
   "metadata": {},
   "outputs": [],
   "source": [
    "plt.figure(figsize=(4,4))\n",
    "cx = np.linspace(-1,1,1000)\n",
    "cy = np.sqrt(1-cx**2)\n",
    "\n",
    "plt.plot(x,y, 'k', marker='o', linewidth=0, markersize=2, markeredgewidth=0)\n",
    "\n",
    "plt.fill_between(cx,-cy,cy, color='gray')\n",
    "plt.xlabel('x')\n",
    "plt.ylabel('y')    \n",
    "plt.xticks([]);\n",
    "plt.yticks([]);"
   ]
  },
  {
   "cell_type": "markdown",
   "metadata": {},
   "source": [
    "### Markov Chain Sampling\n",
    "\n",
    "Suppose that we are not able reach the entire area of the square by throwing pebbles.  An alternative sampling approach proceeds by:\n",
    "\n",
    "1. Start in the corner of the squre $\\vec{r} = (1,1)$\n",
    "2. Throw a pebble\n",
    "    * if the new pebble is inside the square, move to its position\n",
    "    * if not, drop the pebble at your current location\n",
    "3. Record the position (new or current) $\\vec{r} = (x,y)$\n",
    "4. Determine if $r < 1$\n",
    "5. Repeat $N$ times and determine the relative number of hits\n",
    "\n",
    "The hallmark of this type of sampling is that the $(n+1)^{\\rm th}$ configuration only depends on the $n^{\\rm th}$ one."
   ]
  },
  {
   "cell_type": "code",
   "execution_count": null,
   "metadata": {},
   "outputs": [],
   "source": [
    "N = 2**12\n",
    "x = np.ones(N)\n",
    "y = np.ones(N)\n",
    "δ = 0.3\n",
    "\n",
    "for n in range(1,N):\n",
    "    # throw in a box of side δ\n",
    "    Δx = np.random.uniform(-δ,δ)\n",
    "    Δy = np.random.uniform(-δ,δ)\n",
    "    \n",
    "    # update only if the new position is inside the square\n",
    "    x[n] = x[n-1] + Δx*(np.abs(x[n-1]+Δx) < 1)\n",
    "    y[n] = y[n-1] + Δy*(np.abs(y[n-1]+Δy) < 1)\n",
    "\n",
    "# count the number of hits\n",
    "N_hits = np.sum(x**2+y**2<1)\n",
    "print('π ≃ %6.4f' % (4*N_hits/N))"
   ]
  },
  {
   "cell_type": "code",
   "execution_count": null,
   "metadata": {},
   "outputs": [],
   "source": [
    "plt.figure(figsize=(4,4))\n",
    "cx = np.linspace(-1,1,1000)\n",
    "cy = np.sqrt(1-cx**2)\n",
    "\n",
    "plt.plot(x,y, 'k', marker='o', linewidth=0.2, markersize=2, markeredgewidth=0)\n",
    "\n",
    "plt.fill_between(cx,-cy,cy, color='gray')\n",
    "plt.xlabel('x')\n",
    "plt.ylabel('y')    \n",
    "plt.xticks([]);\n",
    "plt.yticks([]);"
   ]
  },
  {
   "cell_type": "markdown",
   "metadata": {},
   "source": [
    "## What are we doing?\n",
    "\n",
    "We are using different sampling schemes to compute the ratio of two-dimensional integrals:\n",
    "\n",
    "\\begin{align*}\n",
    "\\frac{A_\\circ}{A_\\square} = \\frac{\\pi}{4} &= \n",
    "\\frac{\\int_{-1}^1 dx \\int_{-\\sqrt{1-x^2}}^{\\sqrt{1-x^2}} dy}{\\int_{-1}^1 dx \\int_{-1}^1 dy}\\\\\n",
    "&= \\frac{\\int_{-1}^1 dx \\int_{-1}^1 dy\\, \\mathcal{O}(x,y)}{\\int_{-1}^1 dx \\int_{-1}^1 dy}\n",
    "\\end{align*}\n",
    "\n",
    "where we have defined a function:\n",
    "\n",
    "\\begin{equation}\n",
    "\\mathcal{O}(x,y) = \n",
    "\\begin{cases}\n",
    "1 &;& x^2 + y^2 < 1 \\\\\n",
    "0 &;& \\text{otherwise}\n",
    "\\end{cases}.\n",
    "\\end{equation}\n",
    "\n",
    "This integral can be re-written as an ''average'' of the function $\\mathcal{O}(x,y)$ over the square with side $2$ by defining the uniform probability distribution:\n",
    "\n",
    "\\begin{equation}\n",
    "\\pi(x,y) = \\frac{1}{{\\int_{-1}^1 dx \\int_{-1}^1 dy}}\n",
    "\\end{equation}\n",
    "\n",
    "which yields:\n",
    "\n",
    "\\begin{align*}\n",
    "\\langle \\mathcal{O} \\rangle &= \\int_{-1}^1 dx \\int_{-1}^1 dy\\, \\pi (x,y)\\, \\mathcal{O}(x,y) \\newline \n",
    "&\\simeq \\frac{1}{N} \\sum_{n=0}^{N-1} \\mathcal{O}(x_n,y_n) = \\frac{N_{\\rm hits}}{N} \\simeq \\frac{\\pi}{4}\n",
    "\\end{align*}\n",
    "\n",
    "where $x_n,y_n \\in \\pi(x,y)$; i.e. in the last line the probablity distribution doesn't explicity apear, **it is sampled**!  \n",
    "\n",
    "Using this idea we can re-write **any** d-dimensional integral as a Monte Carlo sampling problem:\n",
    "\n",
    "\\begin{align*}\n",
    "I = \\frac{\\int_{\\Omega} d^d x\\, f(x_1,\\ldots,x_d)}{\\int_\\Omega d^d x\\,} & = \\int_\\Omega d^d x\\, \\pi(x_1,\\ldots,x_n) \\, f(x_1,\\ldots,x_n)\n",
    "= \\langle f \\rangle \\newline\n",
    "&\\simeq \\frac{1}{N} \\sum_n f(\\mathbf{x}_n)\n",
    "\\end{align*}\n",
    "\n",
    "where $\\mathbf{x}_n$ is a vector sampled accoridng to the $d$-dimensional uniform distribution $\\pi$."
   ]
  },
  {
   "cell_type": "code",
   "execution_count": null,
   "metadata": {},
   "outputs": [],
   "source": []
  }
 ],
 "metadata": {
  "kernelspec": {
   "display_name": "Python 3",
   "language": "python",
   "name": "python3"
  },
  "language_info": {
   "codemirror_mode": {
    "name": "ipython",
    "version": 3
   },
   "file_extension": ".py",
   "mimetype": "text/x-python",
   "name": "python",
   "nbconvert_exporter": "python",
   "pygments_lexer": "ipython3",
   "version": "3.5.5"
  }
 },
 "nbformat": 4,
 "nbformat_minor": 2
}
