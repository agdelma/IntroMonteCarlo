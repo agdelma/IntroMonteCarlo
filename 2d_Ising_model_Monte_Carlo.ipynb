{
 "cells": [
  {
   "cell_type": "markdown",
   "metadata": {},
   "source": [
    "# 05: 2d Classical Ising Model Monte Carlo"
   ]
  },
  {
   "cell_type": "code",
   "execution_count": null,
   "metadata": {},
   "outputs": [],
   "source": [
    "import numpy as np\n",
    "import matplotlib.pyplot as plt\n",
    "%matplotlib inline\n",
    "%config InlineBackend.figure_format = 'retina'\n",
    "try: plt.style.use('./mc_notebook.mplstyle')\n",
    "except: pass\n",
    "from IPython.display import display"
   ]
  },
  {
   "cell_type": "markdown",
   "metadata": {},
   "source": [
    "## Ising Model of Ferromagnatism\n",
    "\n",
    "Measuring energies in units where $J=k_{\\rm B} = 1$ we can write the Ising model Hamiltonian:\n",
    "\n",
    "\\begin{equation}\n",
    "H = - \\sum_{\\langle i,j\\rangle } \\sigma_i \\sigma_j\n",
    "\\end{equation}\n",
    "\n",
    "where $\\sigma_i = \\pm 1$ and $\\langle i,j \\rangle$ means that sites $i$ and $j$ are nearest neighbors.  Let's consider a $N = L \\times L$ square lattice in $d=2$ with periodic boundary conditions.  This is equivalent to wrapping our lattice onto the surface of a torus.\n",
    "\n",
    "<img src=\"https://upload.wikimedia.org/wikipedia/commons/6/60/Torus_from_rectangle.gif\" width=400px>\n",
    "\n",
    "In two dimensions, our configuration $\\mathbf{x}$ is a set of spin values $\\sigma_i$ which can be written as a matrix:"
   ]
  },
  {
   "cell_type": "code",
   "execution_count": null,
   "metadata": {},
   "outputs": [],
   "source": [
    "def initialize_config(L):\n",
    "    '''Initialize a random spin configuration'''\n",
    "\n",
    "    σ = np.ones([L,L],dtype=int)\n",
    "    σ[np.random.random([L,L])<=0.5] = -1\n",
    "    return σ\n",
    "\n",
    "L = 10\n",
    "σ = initialize_config(L)\n",
    "\n",
    "# visualize\n",
    "plt.matshow(σ, cmap='gray', extent=[0,9,0,9]);\n",
    "plt.xticks([]);\n",
    "plt.yticks([]);"
   ]
  },
  {
   "cell_type": "markdown",
   "metadata": {},
   "source": [
    "In terms of this matrix, the energy can be written as:\n",
    "\n",
    "\\begin{equation}\n",
    "E(\\sigma) = - \\frac{1}{2}\\sum_{i=0}^{L-1} \\sum_{j=0}^{L-1} \\sigma[i,j]\\left(\\sigma[i+1,j] + \\sigma[i-1,j] + \\sigma[i,j+1] + \\sigma[i,j-1]\\right)\n",
    "\\end{equation}\n",
    "\n",
    "How do we deal with the periodic boundary conditions?"
   ]
  },
  {
   "cell_type": "code",
   "execution_count": null,
   "metadata": {},
   "outputs": [],
   "source": [
    "# i + 1\n",
    "p1 = np.arange(1,L+1)\n",
    "p1[-1] = 0\n",
    "\n",
    "# i - 1\n",
    "m1 = np.arange(-1,L-1)\n",
    "m1[0] = L-1\n",
    "\n",
    "display(p1)\n",
    "display(m1)"
   ]
  },
  {
   "cell_type": "markdown",
   "metadata": {},
   "source": [
    "### Thermodynamic Properties: Energy and Magnetization per Spin"
   ]
  },
  {
   "cell_type": "code",
   "execution_count": null,
   "metadata": {},
   "outputs": [],
   "source": [
    "def get_props(σ):\n",
    "    '''The energy E and magnetization M per spin for a microstate of the 2d Ising model.'''\n",
    "    E,M = 0,0\n",
    "    Lx = σ.shape[1]\n",
    "    Ly = σ.shape[0]\n",
    "    \n",
    "    for i in range(Lx):\n",
    "        for j in range(Ly):\n",
    "            M += σ[i,j]\n",
    "            E -= 0.5*σ[i,j]*(σ[p1[i],j] + σ[m1[i],j] + σ[i,p1[j]] + σ[i,m1[j]])\n",
    "    return E/(Lx*Ly),M/(Lx*Ly)"
   ]
  },
  {
   "cell_type": "code",
   "execution_count": null,
   "metadata": {},
   "outputs": [],
   "source": [
    "get_props(σ)"
   ]
  },
  {
   "cell_type": "markdown",
   "metadata": {},
   "source": [
    "## Monte Carlo Update\n",
    "\n",
    "We need to sample the Boltzmann probability:\n",
    "\n",
    "\\begin{equation}\n",
    "\\pi(\\sigma) = \\frac{\\mathrm{e}^{-\\beta E(\\sigma)}}{\\mathcal{Z}}\n",
    "\\end{equation}\n",
    "\n",
    "which can be done via Metropolis Monte Carlo by constructing a Markov chain with update acceptance probabilities:\n",
    "\n",
    "\\begin{equation}\n",
    "p(\\sigma \\to \\sigma') = \\text{min}\\left[1,\\frac{\\pi(\\sigma')\\mathcal{A}(\\sigma' \\to \\sigma)}{\\pi(\\sigma)\\mathcal{A}(\\sigma \\to \\sigma')}\\right].\n",
    "\\end{equation}\n",
    "\n",
    "Here, the easiest update consists of flipping an individual spin and thus the *a priori* update probability is $\\mathcal{A} = 1/N$ for all updates so it cancels out of the probability.   \n",
    "\n",
    "**Note: this simple scheme has problems with critical slowing down (see below).**\n",
    "\n",
    "Can be solved with cluster updates. See, e.g.: [U. Wolff,  *Collective Monte Carlo updating for spin systems*, Phys. Rev. Lett. **62**, 361 (1989).](https://journals.aps.org/prl/abstract/10.1103/PhysRevLett.62.361)\n",
    "\n",
    "Next, we need to determine the change in energy as:\n",
    "\n",
    "\\begin{equation}\n",
    "\\frac{\\pi(\\sigma')}{\\pi(\\sigma)} = \\frac{\\mathrm{e}^{-E(\\sigma')/T}}{\\mathrm{e}^{-E(\\sigma)/T}} = \\mathrm{e}^{-\\Delta E/T}\n",
    "\\end{equation}\n",
    "\n",
    "where $\\Delta E = E(\\sigma') - E(\\sigma)$.\n",
    "\n",
    "**Note: the partition function has cancelled out of the probability!**\n",
    "\n",
    "\n",
    "Suppose we flip the spin with index $k,\\ell$, then: $\\sigma'[k,\\ell] = -\\sigma[k,\\ell]$ and we can write:\n",
    "\n",
    "\\begin{equation}\n",
    "\\Delta E = 2\\sigma[k,\\ell]\\left(\\sigma[k+1,\\ell] + \\sigma[k-1,\\ell] + \\sigma[k,\\ell+1] + \\sigma[k,\\ell-1]\\right).\n",
    "\\end{equation}\n",
    "\n",
    "and \n",
    "\n",
    "\\begin{equation}\n",
    "\\Delta M = 2 \\sigma[k,\\ell]\n",
    "\\end{equation}\n",
    "\n",
    "and thus the acceptance probability for the move will be:\n",
    "\n",
    "\\begin{equation}\n",
    "p(\\sigma \\to \\sigma') = \\min\\left\\{1, \\mathrm{e}^{-\\Delta E/T}\\right\\}.\n",
    "\\end{equation}\n",
    "\n",
    "Each Monte Carlo update thus consists of:\n",
    "\n",
    "1. Select a random spin to flip\n",
    "2. Calculate $\\Delta E$\n",
    "3. Generate a uniform random number $r \\in \\mathcal{U}_{[0,1)}$\n",
    "4. Perform the Metropolis test\n",
    "    - If $r < \\mathrm{e}^{-\\Delta E/T}$: accept the move\n",
    "    - Otherwise: do nothing\n",
    "5. Measure the magnetization\n",
    "\n",
    "A Monte Carlo **step** consists of $N=L^2$ updates."
   ]
  },
  {
   "cell_type": "code",
   "execution_count": null,
   "metadata": {},
   "outputs": [],
   "source": [
    "def monte_carlo_step(σ,T):\n",
    "    '''Perform a Monte Carlo step.'''\n",
    "    \n",
    "    # get the current magnetization\n",
    "    M = np.sum(σ)\n",
    "    \n",
    "    # attempt L^2 spin flips\n",
    "    for update in range(σ.size):\n",
    "        \n",
    "        # get the random spin\n",
    "        k = np.random.randint(0,σ.shape[0])\n",
    "        ℓ = np.random.randint(0,σ.shape[1])\n",
    "        \n",
    "        # calculate the change in energy\n",
    "        ΔE = 2*σ[k,ℓ]*(σ[p1[k],ℓ] + σ[m1[k],ℓ] + σ[k,p1[ℓ]] + σ[k,m1[ℓ]])\n",
    "        \n",
    "        # perform the Metropolis test\n",
    "        if np.random.random() <= np.exp(-ΔE/T):\n",
    "            σ[k,ℓ] *= -1\n",
    "\n",
    "            # Update the magnetization\n",
    "            M += 2*σ[k,ℓ]\n",
    "    \n",
    "    return M"
   ]
  },
  {
   "cell_type": "markdown",
   "metadata": {},
   "source": [
    "### Testing it out"
   ]
  },
  {
   "cell_type": "code",
   "execution_count": null,
   "metadata": {},
   "outputs": [],
   "source": [
    "# initialize \n",
    "σ = initialize_config(L)\n",
    "\n",
    "# visualize\n",
    "plt.matshow(σ, cmap='gray', extent=[0,9,0,9]);\n",
    "plt.xticks([]);\n",
    "plt.yticks([]);\n",
    "get_props(σ)"
   ]
  },
  {
   "cell_type": "code",
   "execution_count": null,
   "metadata": {},
   "outputs": [],
   "source": [
    "# update\n",
    "monte_carlo_step(σ,1.0)\n",
    "\n",
    "# visualize\n",
    "plt.matshow(σ, cmap='gray', extent=[0,9,0,9]);\n",
    "plt.xticks([]);\n",
    "plt.yticks([]);\n",
    "get_props(σ)"
   ]
  },
  {
   "cell_type": "markdown",
   "metadata": {},
   "source": [
    "### Monte Carlo Simulation\n",
    "\n",
    "A simulation consists of performing a large number of Monte Carlo steps at each temperature starting from some random initial configuration."
   ]
  },
  {
   "cell_type": "code",
   "execution_count": null,
   "metadata": {},
   "outputs": [],
   "source": [
    "# temperatures to consider\n",
    "T = np.arange(0.2,2.5,0.25)\n",
    "\n",
    "# number of Monte Carlo steps we will perform\n",
    "num_steps = 2**13\n",
    "\n",
    "# magnetization for each temperature\n",
    "M = np.zeros([num_steps,T.size])"
   ]
  },
  {
   "cell_type": "code",
   "execution_count": null,
   "metadata": {},
   "outputs": [],
   "source": [
    "%%time\n",
    "# initialize\n",
    "L = 4 \n",
    "σ = initialize_config(L)\n",
    "\n",
    "# create PBC lookup tables\n",
    "p1 = np.arange(1,L+1)\n",
    "p1[-1] = 0\n",
    "m1 = np.arange(-1,L-1)\n",
    "m1[0] - L-1\n",
    "\n",
    "# Loop over temperatures from high to low\n",
    "for iT,cT in enumerate(T[::-1]):\n",
    "    m = T.size - 1 - iT\n",
    "    \n",
    "    # initialize the magnetization\n",
    "    M[0,m] = np.sum(σ)/L**2\n",
    "    \n",
    "    # Perform the Monte Carlo steps\n",
    "    for step in range(1,num_steps):\n",
    "        M[step,m] = monte_carlo_step(σ,cT)/L**2"
   ]
  },
  {
   "cell_type": "markdown",
   "metadata": {},
   "source": [
    "### Investigate the raw data"
   ]
  },
  {
   "cell_type": "code",
   "execution_count": null,
   "metadata": {},
   "outputs": [],
   "source": [
    "iT = -2\n",
    "\n",
    "# compute a running average\n",
    "run_ave_m = np.zeros(len(M[:,iT])-1)\n",
    "for n in range(1,len(M[:,iT])-1):\n",
    "    run_ave_m[n] = np.average(M[:n,iT])\n",
    "\n",
    "# plot the raw data\n",
    "plt.plot(M[:,iT],'-', label='T = %3.1f' %T[iT], alpha=0.25)\n",
    "\n",
    "# plot the running average\n",
    "plt.plot(run_ave_m, linewidth=2)\n",
    "\n",
    "plt.legend(loc='upper right', frameon=True, framealpha=0.95)\n",
    "plt.xlabel('Monte Carlo Step')\n",
    "plt.ylabel('Magnetization per spin');"
   ]
  },
  {
   "cell_type": "markdown",
   "metadata": {},
   "source": [
    "### Analyzing the results\n",
    "\n",
    "We want to compute the average value of the magnetization at each temperature along with its standard error, but we need to skip some number of initial measurements as the system takes some *time* to **equilibrate**."
   ]
  },
  {
   "cell_type": "code",
   "execution_count": null,
   "metadata": {},
   "outputs": [],
   "source": [
    "skip = int(0.2*M.shape[0])\n",
    "m = np.average(M[skip:],axis=0)\n",
    "Δm = np.std(M[skip:],axis=0)/np.sqrt(num_steps-skip)"
   ]
  },
  {
   "cell_type": "code",
   "execution_count": null,
   "metadata": {},
   "outputs": [],
   "source": [
    "plt.errorbar(T,np.abs(m),yerr=Δm, linewidth=1, marker='o', markersize=4, elinewidth=1, capsize=0)\n",
    "plt.axvline(x=2.0/np.log(1.0+np.sqrt(2.0)), linewidth=1, color='gray', linestyle='--')\n",
    "plt.xlim(0.2,2.4)\n",
    "plt.ylim(-0.01,1.1)\n",
    "plt.xlabel(r'Temperature ($k_{\\rm B}T/J$)')\n",
    "plt.ylabel('Magnetization per spin')\n",
    "plt.title(\"L = 4\");"
   ]
  },
  {
   "cell_type": "markdown",
   "metadata": {},
   "source": [
    "These error bars look **way** too small!  Need to perform a binning analysis!"
   ]
  },
  {
   "cell_type": "code",
   "execution_count": null,
   "metadata": {},
   "outputs": [],
   "source": [
    "def get_binned_error(mc_data):\n",
    "    '''Get the standard error in mc_data and return neighbor averaged data.'''\n",
    "    N_bins = mc_data.size\n",
    "    Δ = np.std(mc_data)/np.sqrt(N_bins)\n",
    "    \n",
    "    start_bin = N_bins % 2\n",
    "    binned_mc_data = 0.5*(mc_data[start_bin::2]+mc_data[start_bin+1::2])\n",
    "   \n",
    "    return Δ,binned_mc_data"
   ]
  },
  {
   "cell_type": "code",
   "execution_count": null,
   "metadata": {},
   "outputs": [],
   "source": [
    "# number of possible binning levels\n",
    "num_levels = np.int(np.log2(M[skip:,0].size/4))+1\n",
    "\n",
    "# compute the error at each bin level for each temperature\n",
    "Δm = np.zeros([len(T),num_levels])\n",
    "\n",
    "for iT,cT in enumerate(T):\n",
    "    \n",
    "    binned_mc_data = M[:,iT]\n",
    "    for n in range(num_levels):\n",
    "        Δₙ,binned_mc_data = get_binned_error(binned_mc_data)\n",
    "        Δm[iT,n] = Δₙ"
   ]
  },
  {
   "cell_type": "code",
   "execution_count": null,
   "metadata": {},
   "outputs": [],
   "source": [
    "for iT,cT in enumerate(T):\n",
    "    plt.plot(np.abs(Δm[iT]),'-o', linewidth=1, markersize=8, label='$k_{\\mathrm{B}}T/J = %4.2f$'%cT)\n",
    "    plt.xlabel('bin level')\n",
    "    plt.ylabel('Δm');\n",
    "    plt.legend(ncol=1, loc=(1,0))"
   ]
  },
  {
   "cell_type": "markdown",
   "metadata": {},
   "source": [
    "### Replot with improved binned error bars"
   ]
  },
  {
   "cell_type": "code",
   "execution_count": null,
   "metadata": {},
   "outputs": [],
   "source": [
    "plt.errorbar(T,np.abs(m),yerr=Δm[:,-2], linewidth=1, marker='o', markersize=6, elinewidth=1, capsize=0)\n",
    "plt.axvline(x=2.0/np.log(1.0+np.sqrt(2.0)), linewidth=1, color='gray', linestyle='--')\n",
    "plt.xlim(0.2,2.5)\n",
    "plt.ylim(-0.01,1.1)\n",
    "plt.xlabel(r'Temperature ($k_{\\rm B}T/J$)')\n",
    "plt.ylabel('Magnetization per spin')\n",
    "plt.title(\"L = 4\");"
   ]
  },
  {
   "cell_type": "markdown",
   "metadata": {},
   "source": [
    "## Load some data for a *much* longer run and $L=32$ from disk and compare with the exact Onsager solution\n",
    "\n",
    "\\begin{equation}\n",
    "m=\\left[1-\\left(\\sinh \\frac{2J}{k_{\\rm B}T}\\right)^{-4}\\right]^{\\frac {1}{8}}\n",
    "\\end{equation}"
   ]
  },
  {
   "cell_type": "code",
   "execution_count": null,
   "metadata": {},
   "outputs": [],
   "source": [
    "def magnetization_exact_(T):\n",
    "    '''We use units where J/k_B = 1.'''\n",
    "    Tc = 2.0/np.log(1.0+np.sqrt(2.0))\n",
    "    if T < Tc:\n",
    "        return (1.0 - np.sinh(2.0/T)**(-4))**(1.0/8)\n",
    "    else:\n",
    "        return 0.0\n",
    "magnetization_exact = np.vectorize(magnetization_exact_)"
   ]
  },
  {
   "cell_type": "code",
   "execution_count": null,
   "metadata": {},
   "outputs": [],
   "source": [
    "data = np.loadtxt('Ising_estimators_032.dat.gz')\n",
    "lT = np.linspace(0.01,4,1000)\n",
    "lL = 32\n",
    "\n",
    "plt.plot(lT,magnetization_exact(lT),'-', linewidth=1, label='Exact')\n",
    "plt.errorbar(data[:,0],np.abs(data[:,5])/lL**2,yerr=data[:,6]/lL**2, linewidth=1, marker='o', \n",
    "             markersize=6, elinewidth=1, label='Monte Carlo', linestyle='None')\n",
    "plt.xlim(0.2,4)\n",
    "plt.ylim(0,1.1)\n",
    "plt.xlabel(r'Temperature ($k_{\\rm B}T/J$)')\n",
    "plt.ylabel('Magnetization per spin')\n",
    "plt.title(\"L = 32\")\n",
    "\n",
    "plt.legend();"
   ]
  },
  {
   "cell_type": "markdown",
   "metadata": {},
   "source": [
    "<!-- \n",
    "hlabel = 'm(T = %4.2f)' % T[0]\n",
    "header = '%23s' % hlabel\n",
    "for cT in T[1:]:\n",
    "    hlabel = 'm(T = %4.2f)' % cT\n",
    "    header += '%24s ' % hlabel\n",
    "    \n",
    "np.savetxt('Ising_magnetization_004.dat.gz',M, fmt='%24.16E', header=header)\n",
    "M = np.loadtxt('Ising_magnetization_004.dat.gz')\n",
    "-->"
   ]
  },
  {
   "cell_type": "code",
   "execution_count": null,
   "metadata": {},
   "outputs": [],
   "source": []
  }
 ],
 "metadata": {
  "kernelspec": {
   "display_name": "Python 3",
   "language": "python",
   "name": "python3"
  },
  "language_info": {
   "codemirror_mode": {
    "name": "ipython",
    "version": 3
   },
   "file_extension": ".py",
   "mimetype": "text/x-python",
   "name": "python",
   "nbconvert_exporter": "python",
   "pygments_lexer": "ipython3",
   "version": "3.5.5"
  }
 },
 "nbformat": 4,
 "nbformat_minor": 2
}
